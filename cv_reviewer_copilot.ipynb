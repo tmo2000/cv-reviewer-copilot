{
 "cells": [
  {
   "cell_type": "code",
   "execution_count": null,
   "id": "21b248d6",
   "metadata": {
    "vscode": {
     "languageId": "powershell"
    }
   },
   "outputs": [
    {
     "name": "stdout",
     "output_type": "stream",
     "text": [
      "Requirement already satisfied: python-docx in c:\\users\\temisola\\personal projects\\cv-reviewer-copilot\\.venv\\lib\\site-packages (1.2.0)\n",
      "Requirement already satisfied: PyPDF2 in c:\\users\\temisola\\personal projects\\cv-reviewer-copilot\\.venv\\lib\\site-packages (3.0.1)\n",
      "Requirement already satisfied: python-dotenv in c:\\users\\temisola\\personal projects\\cv-reviewer-copilot\\.venv\\lib\\site-packages (1.1.1)\n",
      "Requirement already satisfied: lxml>=3.1.0 in c:\\users\\temisola\\personal projects\\cv-reviewer-copilot\\.venv\\lib\\site-packages (from python-docx) (6.0.0)\n",
      "Requirement already satisfied: typing_extensions>=4.9.0 in c:\\users\\temisola\\personal projects\\cv-reviewer-copilot\\.venv\\lib\\site-packages (from python-docx) (4.14.0)\n"
     ]
    }
   ],
   "source": [
    "!pip install python-docx PyPDF2 python-dotenv"
   ]
  },
  {
   "cell_type": "code",
   "execution_count": null,
   "id": "b0806770",
   "metadata": {},
   "outputs": [
    {
     "name": "stdout",
     "output_type": "stream",
     "text": [
      "🔐 API key loaded: Yes\n"
     ]
    }
   ],
   "source": [
    "import os\n",
    "from dotenv import load_dotenv\n",
    "from utils.file_extractors import extract_text_from_docx, extract_text_from_pdf\n",
    "from utils.model_runner import load_model, analyze_resume\n",
    "\n",
    "load_dotenv()\n",
    "api_key = os.getenv(\"HUGGINGFACE_API_KEY\")\n",
    "\n",
    "print(\"🔐 API key loaded:\", \"Yes\" if api_key else \"No\")"
   ]
  },
  {
   "cell_type": "code",
   "execution_count": null,
   "id": "31c98f36",
   "metadata": {},
   "outputs": [],
   "source": [
    "resume_path = \"sample_data/resume.pdf\"\n",
    "job_desc_path = \"sample_data/sample_job.txt\""
   ]
  },
  {
   "cell_type": "code",
   "execution_count": null,
   "id": "852b5f97",
   "metadata": {},
   "outputs": [
    {
     "name": "stdout",
     "output_type": "stream",
     "text": [
      "Model and tokenizer loaded successfully.\n",
      "Highlight AWS projects more clearly.\n"
     ]
    }
   ],
   "source": [
    "# Load model\n",
    "model, tokenizer = load_model()\n",
    "\n",
    "# Analyze\n",
    "feedback = analyze_resume(\"sample_data/resume.pdf\", \"sample_data/sample_job.txt\", model, tokenizer)\n",
    "\n",
    "# Show result\n",
    "print(feedback)"
   ]
  }
 ],
 "metadata": {
  "kernelspec": {
   "display_name": ".venv",
   "language": "python",
   "name": "python3"
  },
  "language_info": {
   "codemirror_mode": {
    "name": "ipython",
    "version": 3
   },
   "file_extension": ".py",
   "mimetype": "text/x-python",
   "name": "python",
   "nbconvert_exporter": "python",
   "pygments_lexer": "ipython3",
   "version": "3.9.6"
  }
 },
 "nbformat": 4,
 "nbformat_minor": 5
}
