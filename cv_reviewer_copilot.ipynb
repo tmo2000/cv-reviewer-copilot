{
 "cells": [
  {
   "cell_type": "code",
   "execution_count": 1,
   "id": "21b248d6",
   "metadata": {
    "vscode": {
     "languageId": "powershell"
    }
   },
   "outputs": [
    {
     "name": "stdout",
     "output_type": "stream",
     "text": [
      "Collecting python-docx\n",
      "  Downloading python_docx-1.2.0-py3-none-any.whl (252 kB)\n",
      "Collecting PyPDF2\n",
      "  Downloading pypdf2-3.0.1-py3-none-any.whl (232 kB)\n",
      "Requirement already satisfied: python-dotenv in c:\\users\\temisola\\appdata\\local\\programs\\python\\python39\\lib\\site-packages (1.1.0)\n",
      "Requirement already satisfied: typing_extensions>=4.9.0 in c:\\users\\temisola\\appdata\\local\\programs\\python\\python39\\lib\\site-packages (from python-docx) (4.11.0)\n",
      "Collecting lxml>=3.1.0\n",
      "  Downloading lxml-6.0.0-cp39-cp39-win_amd64.whl (4.0 MB)\n",
      "Installing collected packages: lxml, python-docx, PyPDF2\n",
      "Successfully installed PyPDF2-3.0.1 lxml-6.0.0 python-docx-1.2.0\n"
     ]
    }
   ],
   "source": [
    "!pip install python-docx PyPDF2 python-dotenv"
   ]
  },
  {
   "cell_type": "code",
   "execution_count": 3,
   "id": "9724e1b8",
   "metadata": {},
   "outputs": [],
   "source": [
    "import os\n",
    "from dotenv import load_dotenv\n",
    "import docx\n",
    "import PyPDF2"
   ]
  },
  {
   "cell_type": "code",
   "execution_count": 4,
   "id": "f885b807",
   "metadata": {},
   "outputs": [
    {
     "name": "stdout",
     "output_type": "stream",
     "text": [
      "🔐 API key loaded: Yes\n"
     ]
    }
   ],
   "source": [
    "load_dotenv()\n",
    "api_key = os.getenv(\"OPENAI_API_KEY\")\n",
    "\n",
    "print(\"🔐 API key loaded:\", \"Yes\" if api_key else \"No\")"
   ]
  },
  {
   "cell_type": "code",
   "execution_count": 8,
   "id": "6e319785",
   "metadata": {},
   "outputs": [],
   "source": [
    "def extract_text_from_pdf(file_path):\n",
    "    with open(file_path, \"rb\") as file:\n",
    "        reader = PyPDF2.PdfReader(file)\n",
    "        text = \"\"\n",
    "        for page in reader.pages:\n",
    "            text += page.extract_text() or \"\"\n",
    "    return text.strip()"
   ]
  },
  {
   "cell_type": "code",
   "execution_count": 9,
   "id": "e20e1c5d",
   "metadata": {},
   "outputs": [],
   "source": [
    "def extract_text_from_docx(file_path):\n",
    "    doc = docx.Document(file_path)\n",
    "    return \"\\n\".join([para.text for para in doc.paragraphs]).strip()"
   ]
  },
  {
   "cell_type": "code",
   "execution_count": 14,
   "id": "2a88644b",
   "metadata": {},
   "outputs": [
    {
     "name": "stdout",
     "output_type": "stream",
     "text": [
      "📄 Resume (First 500 chars):\n",
      " TEMISOLA OLAJIDE   \n",
      "Dubai, UAE  | +971 50 499 8544 | temisolaolajide@gmail.com  | github.com/tmo2000  \n",
      "Final -year Computer Science and AI student passionate about using data to solve real -world problems. Experienced in Python, \n",
      "SQL, and Power BI with a strong foundation in data cleaning, visualization, and modelling . Currently supporting a bank -wide \n",
      "optimization model and leading an NLP research project on narrative bias. Looking to grow in a mission -driven, collaborative \n",
      "data science env\n",
      "\n",
      "📌 Job Description:\n",
      " \n"
     ]
    }
   ],
   "source": [
    "resume_path = \"sample_data/resume.pdf\"\n",
    "job_desc_path = \"sample_data/sample_job.txt\"\n",
    "\n",
    "# Detect file type\n",
    "if resume_path.endswith(\".pdf\"):\n",
    "    resume_text = extract_text_from_pdf(resume_path)\n",
    "elif resume_path.endswith(\".docx\"):\n",
    "    resume_text = extract_text_from_docx(resume_path)\n",
    "else:\n",
    "    raise ValueError(\"Unsupported resume format\")\n",
    "\n",
    "with open(job_desc_path, \"r\", encoding=\"utf-8\") as f:\n",
    "    job_description = f.read()\n",
    "\n",
    "# Preview\n",
    "print(\"📄 Resume (First 500 chars):\\n\", resume_text[:500])\n",
    "print(\"\\n📌 Job Description:\\n\", job_description[:500])"
   ]
  },
  {
   "cell_type": "code",
   "execution_count": 15,
   "id": "bf396dfd",
   "metadata": {},
   "outputs": [],
   "source": [
    "def clean_text(text):\n",
    "    return \" \".join(text.split()).strip()\n",
    "\n",
    "resume_text = clean_text(resume_text)\n",
    "job_description = clean_text(job_description)\n"
   ]
  }
 ],
 "metadata": {
  "kernelspec": {
   "display_name": "Python 3",
   "language": "python",
   "name": "python3"
  },
  "language_info": {
   "codemirror_mode": {
    "name": "ipython",
    "version": 3
   },
   "file_extension": ".py",
   "mimetype": "text/x-python",
   "name": "python",
   "nbconvert_exporter": "python",
   "pygments_lexer": "ipython3",
   "version": "3.9.6"
  }
 },
 "nbformat": 4,
 "nbformat_minor": 5
}
